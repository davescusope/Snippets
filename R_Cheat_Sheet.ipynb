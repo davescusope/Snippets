{
 "cells": [
  {
   "cell_type": "markdown",
   "metadata": {},
   "source": [
    "# Cheat-Sheet R"
   ]
  },
  {
   "cell_type": "code",
   "execution_count": null,
   "metadata": {},
   "outputs": [],
   "source": [
    "?history"
   ]
  },
  {
   "cell_type": "markdown",
   "metadata": {},
   "source": [
    "Inspeccion de objetos"
   ]
  },
  {
   "cell_type": "code",
   "execution_count": null,
   "metadata": {},
   "outputs": [],
   "source": [
    "mode(x)                       # El modo del objeto x\n",
    "class(x)                      # La clase del objeto x\n",
    "typeof(x)                     # El tipo del objeto x\n",
    "str(x)                        # Resumen de la estructura de x\n",
    "summary(x)                    # Resumen de los estadisticos de x\n",
    "head(x)                       # Primeros elementos de x\n",
    "tail(x)                       # Ultimos elementos de x\n",
    "is.null(x)                    # Comprueba si es NULL\n",
    "attributes(x)                 # Atributos de x\n",
    "\n",
    "#inspeccion propio de matrices\n",
    "\n",
    "colnames(m)                   # vector con los nombres de las columnas\n",
    "cownames(m)                   # vector con los nombres de las filas\n",
    "length(m)                     # Numero de elementos en la matriz\n",
    "is.atomic(m)                  # true si es atomica\n",
    "nrow(df)                      # numero de filas\n",
    "ncol(df)                      # numero de columnas\n"
   ]
  },
  {
   "cell_type": "markdown",
   "metadata": {},
   "source": [
    "Basics"
   ]
  },
  {
   "cell_type": "code",
   "execution_count": 1,
   "metadata": {},
   "outputs": [
    {
     "data": {
      "text/html": [
       "110"
      ],
      "text/latex": [
       "110"
      ],
      "text/markdown": [
       "110"
      ],
      "text/plain": [
       "[1] 110"
      ]
     },
     "metadata": {},
     "output_type": "display_data"
    },
    {
     "data": {
      "text/html": [
       "22"
      ],
      "text/latex": [
       "22"
      ],
      "text/markdown": [
       "22"
      ],
      "text/plain": [
       "[1] 22"
      ]
     },
     "metadata": {},
     "output_type": "display_data"
    },
    {
     "data": {
      "text/html": [
       "<ol class=list-inline>\n",
       "\t<li>5</li>\n",
       "\t<li>43</li>\n",
       "</ol>\n"
      ],
      "text/latex": [
       "\\begin{enumerate*}\n",
       "\\item 5\n",
       "\\item 43\n",
       "\\end{enumerate*}\n"
      ],
      "text/markdown": [
       "1. 5\n",
       "2. 43\n",
       "\n",
       "\n"
      ],
      "text/plain": [
       "[1]  5 43"
      ]
     },
     "metadata": {},
     "output_type": "display_data"
    }
   ],
   "source": [
    "# operadores matematicos y logicos\n",
    "\n",
    "/           # Division\n",
    "^ o **      # Potencia\n",
    "%%          # Modulo\n",
    "%/%         # Division entera\n",
    "%in%        # Pertenencia\n",
    "==          # Igualdad\n",
    "!=          # Desigualdad\n",
    "&           # AND para vectores\n",
    "&&          # AND para no vectores\n",
    "|           # Or para vectores\n",
    "||          # Or para no vectores\n",
    "!           # NOT\n",
    "\n",
    "\n",
    "\n",
    "# Sentencias condicionales y bucles\n",
    "#en R, toda función o bucle va entre llaves para definir el inicio y el final\n",
    "\n",
    "#ejemplo de condicional\n",
    "x <- -3\n",
    "if (x < 0) {\n",
    "  print(\"x\")\n",
    "}\n",
    "\n",
    "#ejemplo de bucle\n",
    "ctr <- 1\n",
    "while (ctr <= 7) {\n",
    "  if (ctr %% 5 == 0)\n",
    "    break\n",
    "  print(paste(\"ctr vale\", ctr))\n",
    "  ctr <- ctr + 1\n",
    "}\n",
    "\n",
    "\n",
    "#ejemplo de bucle con control de errores\n",
    "for(input in inputs) {\n",
    "  tryCatch(print(paste(\"log of\", input, \"=\", log(input))),\n",
    "           warning = function(w) { print(paste(\"negative argument\", input)); log(-input) },\n",
    "           error = function(e) { print(paste(\"non-numeric argument\", input)); NaN })\n",
    "}\n"
   ]
  },
  {
   "cell_type": "markdown",
   "metadata": {},
   "source": [
    "Vectores"
   ]
  },
  {
   "cell_type": "code",
   "execution_count": null,
   "metadata": {},
   "outputs": [],
   "source": [
    "v <-c(43, 42, 12, 8, 5)    # Creación y asignación de un vector de enteros\n",
    "v <- 1:9\n",
    "\n",
    "sum(edades)\n",
    "mean(edades)\n",
    "range(edades)\n",
    "\n",
    "v <- a_vector + b_vector\n",
    "v[1]                      # Seleccionamos el primer elemento\n",
    "v[c(1, 1, 4, 5)]          # Seleccionamos el primero dos veces, el cuarto y el quinto\n",
    "v[1:3]                    # Obtenemos los elementos entre el índice 1 y 3\n",
    "v[1:3] <- 0               # Asignamos el valor cero a los elemenos entre los índices 1 y 3\n",
    "v[\"alpha\"]                # Indexa por el nombre del objeto en particular\n",
    "\n",
    "v[!(names(v) %in% c(\"alpha\", \"omega\"))]"
   ]
  },
  {
   "cell_type": "markdown",
   "metadata": {},
   "source": [
    "Matrices"
   ]
  },
  {
   "cell_type": "code",
   "execution_count": null,
   "metadata": {},
   "outputs": [],
   "source": [
    "m <- matrix(1:9, byrow = TRUE, nrow = 3) # Creación de una matriz\n",
    "\n",
    "t_m <- t(m)                         # Traspuesta de m1\n",
    "d <- det(m)                         # Determinante de la matriz\n",
    "\n",
    "#funcionan las mismas operaciones que en los vectores, pero, además\n",
    "\n",
    "rowSums(m)                          # Vector de sumas por columnas\n",
    "colMeans(m)                         # Vector de medias por columnas\n",
    "max(m)                              # Numero mayor de la matriz\n",
    "big_m <- cbind(a_matrix, b_matrix)  # Une una matriz por columna\n",
    "big_m <- rbind(a_matrix, b_matrix)  # Une una matriz por filas\n",
    "\n",
    "\n",
    "# Se indexa como en los vectores, pero indicando tanto posicion de fila como de columna\n",
    "\n",
    "m[1, ] # Seleccionamos la primera fila\n",
    "m[1:2, ] # Seleccionamos las dos primeras filas\n",
    "m[, ncol(m)] # Seleccionamos la última columna\n",
    "m[1, ] <- 0 # Asigna un vector de ceros a la primera fila\n",
    "m[m > 7] # Todos los > 7\n",
    "m[m == 0] # Todos los 0\n",
    "colnames(m) <- c(\"c1\", \"c2\", \"c3\")\n",
    "rownames(m) <- c(\"r1\", \"r2\", \"r3\")"
   ]
  },
  {
   "cell_type": "markdown",
   "metadata": {},
   "source": [
    "Factores # de momento los pasamos por alto"
   ]
  },
  {
   "cell_type": "code",
   "execution_count": null,
   "metadata": {},
   "outputs": [],
   "source": []
  },
  {
   "cell_type": "markdown",
   "metadata": {},
   "source": [
    "Data Frames"
   ]
  },
  {
   "cell_type": "code",
   "execution_count": null,
   "metadata": {},
   "outputs": [],
   "source": [
    "df <- data.frame(col1 = v1, col2 = v2)\n",
    "df <- read.csv(\"filename.csv\", header = T)   # Lectura desde fichero\n",
    "\n",
    "#Mismo tratamiento y operaciones que las matrices \n",
    "#Indexacion en dataframes se puede hacer igual que en matrices \n",
    "\n",
    "#la indexacion rapida se realiza con el $\n",
    "\n",
    "df$newcolumn <- df$columna / df$tiempo\n",
    "df[\"newcolumn\"] <- df$columna / df$tiempo\n",
    "df[12] <- df$columna / df$tiempo\n",
    "\n",
    "#indexacion por celdas\n",
    "\n",
    "df[5, 2] # Obtiene una única celda\n",
    "df[1:5, 1:2] # Obtiene varias celdas\n",
    "df[1:2, c(\"gear\", \"am\")]\n",
    "\n",
    "#indexacion por filas\n",
    "df[1, ]\n",
    "df[-nrow(df), ]\n",
    "df[1:5, ]\n",
    "df[(df$hp > 150 & df$hp < 200), ]\n",
    "\n",
    "#indexacion por columnas\n",
    "df$hp # Devuelve un vector\n",
    "df[, \"hp\"] # Devuelve un vector\n",
    "df[, 4] # Devuelve un vector\n",
    "\n",
    "#joins en data frames\n",
    "join <- merge(df.x, df.y, by = c(\"col1\")) #join\n",
    "left.join <- merge(df.x, df.y, by = c(\"col1\"), all.x = T) #left join\n",
    "right.join <- merge(df.x, df.y, by = c(\"col1\"), all.y = T) #right join\n",
    "full.join <- merge(df.x, df.y, by = c(\"col1\"), all = T) #full join"
   ]
  },
  {
   "cell_type": "markdown",
   "metadata": {},
   "source": [
    "Listas"
   ]
  },
  {
   "cell_type": "code",
   "execution_count": null,
   "metadata": {},
   "outputs": [],
   "source": [
    "#las listas funcionan como los data frames, pero mientras que los df solo pueden contener datos ( aunque de diferntes tipos)\n",
    "# las listas pueden contener diferentes tipos de objetos basicos ( vectores, matrices, dfs...)\n",
    "\n",
    "l[[2]] #Devuelve una matriz que está ubicada en la posicion 2 de la lista\n"
   ]
  },
  {
   "cell_type": "markdown",
   "metadata": {},
   "source": [
    "Funciones "
   ]
  },
  {
   "cell_type": "code",
   "execution_count": null,
   "metadata": {},
   "outputs": [],
   "source": [
    "func <- function(a, b = 1) {  #b es opcional por venir predefinido\n",
    "    if (b == 0)\n",
    "        return(0)\n",
    "    a*b + a/b\n",
    "}\n",
    "\n",
    "#funcion en una sola linea donde return es una funcion\n",
    "pow_two <- function(x) return(x^2)\n",
    "\n",
    "\n",
    "# La función apply toma la lista o vector X y aplica a todos sus elementos la función\n",
    "m <- matrix(c(1:10, 11:20), nrow = 10, ncol = 2)\n",
    "apply(m, 1, mean) # Por filas\n",
    "apply(m, 2, mean) # Por columnas\n",
    "apply(m, 1:2, function(x) x/2) # Por filas y por columnas m / 2"
   ]
  },
  {
   "cell_type": "code",
   "execution_count": null,
   "metadata": {},
   "outputs": [],
   "source": []
  },
  {
   "cell_type": "code",
   "execution_count": null,
   "metadata": {},
   "outputs": [],
   "source": []
  },
  {
   "cell_type": "code",
   "execution_count": null,
   "metadata": {},
   "outputs": [],
   "source": []
  }
 ],
 "metadata": {
  "kernelspec": {
   "display_name": "R",
   "language": "R",
   "name": "ir"
  },
  "language_info": {
   "codemirror_mode": "r",
   "file_extension": ".r",
   "mimetype": "text/x-r-source",
   "name": "R",
   "pygments_lexer": "r",
   "version": "3.5.1"
  }
 },
 "nbformat": 4,
 "nbformat_minor": 2
}
